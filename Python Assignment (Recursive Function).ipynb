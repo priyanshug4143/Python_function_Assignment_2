{
 "cells": [
  {
   "cell_type": "markdown",
   "id": "ae382c98",
   "metadata": {},
   "source": [
    "1) What is lambda Function In  python and how does it differ from regular function ?"
   ]
  },
  {
   "cell_type": "code",
   "execution_count": 1,
   "id": "4a67b973",
   "metadata": {},
   "outputs": [
    {
     "name": "stdout",
     "output_type": "stream",
     "text": [
      "A lambda function is an anonymous function (i.e., defined without a name) that can take any number of arguments but, unlike normal functions, evaluates and returns only one expression.\n"
     ]
    }
   ],
   "source": [
    "print(\"A lambda function is an anonymous function (i.e., defined without a name) that can take any number of arguments but, unlike normal functions, evaluates and returns only one expression.\")"
   ]
  },
  {
   "cell_type": "code",
   "execution_count": 16,
   "id": "78b02104",
   "metadata": {},
   "outputs": [
    {
     "data": {
      "text/plain": [
       "16"
      ]
     },
     "execution_count": 16,
     "metadata": {},
     "output_type": "execute_result"
    }
   ],
   "source": [
    "# Lambda Function\n",
    "(lambda x:x+2)(14)"
   ]
  },
  {
   "cell_type": "code",
   "execution_count": 17,
   "id": "01f8cfc6",
   "metadata": {},
   "outputs": [],
   "source": [
    "#Normal Function"
   ]
  },
  {
   "cell_type": "code",
   "execution_count": 18,
   "id": "08333e8d",
   "metadata": {},
   "outputs": [],
   "source": [
    "def Add_1(x):\n",
    "    return x + 1"
   ]
  },
  {
   "cell_type": "code",
   "execution_count": 19,
   "id": "d9bbc803",
   "metadata": {},
   "outputs": [
    {
     "data": {
      "text/plain": [
       "6"
      ]
     },
     "execution_count": 19,
     "metadata": {},
     "output_type": "execute_result"
    }
   ],
   "source": [
    "Add_1(5)"
   ]
  },
  {
   "cell_type": "code",
   "execution_count": 20,
   "id": "78901ad9",
   "metadata": {},
   "outputs": [],
   "source": [
    "#now lambda function With Multiple argument"
   ]
  },
  {
   "cell_type": "code",
   "execution_count": 21,
   "id": "4b0d5b60",
   "metadata": {},
   "outputs": [
    {
     "data": {
      "text/plain": [
       "13"
      ]
     },
     "execution_count": 21,
     "metadata": {},
     "output_type": "execute_result"
    }
   ],
   "source": [
    "(lambda x,y,z : x+y+z)(3,4,6)"
   ]
  },
  {
   "cell_type": "code",
   "execution_count": 1,
   "id": "ffe724b3",
   "metadata": {},
   "outputs": [],
   "source": [
    "#Normal Function Take 2 to 3 lines while lambda functiuon take only single Line"
   ]
  },
  {
   "cell_type": "code",
   "execution_count": null,
   "id": "40d7b81a",
   "metadata": {},
   "outputs": [],
   "source": []
  },
  {
   "cell_type": "markdown",
   "id": "650d3675",
   "metadata": {},
   "source": [
    "2 ) Can a Lambda Function of python have a multiple argument ? if yes how you can define  and use them"
   ]
  },
  {
   "cell_type": "code",
   "execution_count": 23,
   "id": "24c9442b",
   "metadata": {},
   "outputs": [],
   "source": [
    "# yes Lambda function Have a multiple argument"
   ]
  },
  {
   "cell_type": "code",
   "execution_count": 24,
   "id": "f962e139",
   "metadata": {},
   "outputs": [
    {
     "data": {
      "text/plain": [
       "6"
      ]
     },
     "execution_count": 24,
     "metadata": {},
     "output_type": "execute_result"
    }
   ],
   "source": [
    "(lambda x, y,z :x-y+z)(2,5,9)"
   ]
  },
  {
   "cell_type": "code",
   "execution_count": null,
   "id": "72f5e5b7",
   "metadata": {},
   "outputs": [],
   "source": []
  },
  {
   "cell_type": "markdown",
   "id": "c625477f",
   "metadata": {},
   "source": [
    "3) How the lambda function typially used in python ? Provide an example and use case"
   ]
  },
  {
   "cell_type": "code",
   "execution_count": 26,
   "id": "5a70f977",
   "metadata": {},
   "outputs": [],
   "source": [
    "import pandas as pd"
   ]
  },
  {
   "cell_type": "code",
   "execution_count": 31,
   "id": "9db93f21",
   "metadata": {},
   "outputs": [],
   "source": [
    "df = pd.DataFrame(\n",
    "    {\"name\": [\"Priyanhsu\", \"Himanshu\", \"Sudhanshu\", \"Ansu\", \"Krishanshu\", \"Tripanshu\"],\n",
    "     \"score\": [18, 32, 15, 5, 3, 9]\n",
    "    }\n",
    ")"
   ]
  },
  {
   "cell_type": "code",
   "execution_count": 32,
   "id": "1a0f8320",
   "metadata": {},
   "outputs": [
    {
     "data": {
      "text/html": [
       "<div>\n",
       "<style scoped>\n",
       "    .dataframe tbody tr th:only-of-type {\n",
       "        vertical-align: middle;\n",
       "    }\n",
       "\n",
       "    .dataframe tbody tr th {\n",
       "        vertical-align: top;\n",
       "    }\n",
       "\n",
       "    .dataframe thead th {\n",
       "        text-align: right;\n",
       "    }\n",
       "</style>\n",
       "<table border=\"1\" class=\"dataframe\">\n",
       "  <thead>\n",
       "    <tr style=\"text-align: right;\">\n",
       "      <th></th>\n",
       "      <th>name</th>\n",
       "      <th>score</th>\n",
       "    </tr>\n",
       "  </thead>\n",
       "  <tbody>\n",
       "    <tr>\n",
       "      <th>0</th>\n",
       "      <td>Priyanhsu</td>\n",
       "      <td>18</td>\n",
       "    </tr>\n",
       "    <tr>\n",
       "      <th>1</th>\n",
       "      <td>Himanshu</td>\n",
       "      <td>32</td>\n",
       "    </tr>\n",
       "    <tr>\n",
       "      <th>2</th>\n",
       "      <td>Sudhanshu</td>\n",
       "      <td>15</td>\n",
       "    </tr>\n",
       "    <tr>\n",
       "      <th>3</th>\n",
       "      <td>Ansu</td>\n",
       "      <td>5</td>\n",
       "    </tr>\n",
       "    <tr>\n",
       "      <th>4</th>\n",
       "      <td>Krishanshu</td>\n",
       "      <td>3</td>\n",
       "    </tr>\n",
       "    <tr>\n",
       "      <th>5</th>\n",
       "      <td>Tripanshu</td>\n",
       "      <td>9</td>\n",
       "    </tr>\n",
       "  </tbody>\n",
       "</table>\n",
       "</div>"
      ],
      "text/plain": [
       "         name  score\n",
       "0   Priyanhsu     18\n",
       "1    Himanshu     32\n",
       "2   Sudhanshu     15\n",
       "3        Ansu      5\n",
       "4  Krishanshu      3\n",
       "5   Tripanshu      9"
      ]
     },
     "execution_count": 32,
     "metadata": {},
     "output_type": "execute_result"
    }
   ],
   "source": [
    "df"
   ]
  },
  {
   "cell_type": "code",
   "execution_count": 30,
   "id": "7f4fa9c0",
   "metadata": {},
   "outputs": [],
   "source": [
    "# I used Typically in Machine Learning in model building  "
   ]
  },
  {
   "cell_type": "code",
   "execution_count": 34,
   "id": "faf3e8c4",
   "metadata": {},
   "outputs": [
    {
     "data": {
      "text/plain": [
       "0    Below 18\n",
       "1         18+\n",
       "2    Below 18\n",
       "3    Below 18\n",
       "4    Below 18\n",
       "5    Below 18\n",
       "Name: score, dtype: object"
      ]
     },
     "execution_count": 34,
     "metadata": {},
     "output_type": "execute_result"
    }
   ],
   "source": [
    "df[\"score\"].apply(lambda x:\"18+\" if x>18 else \"Below 18\")"
   ]
  },
  {
   "cell_type": "code",
   "execution_count": null,
   "id": "8f430d7f",
   "metadata": {},
   "outputs": [],
   "source": []
  },
  {
   "cell_type": "markdown",
   "id": "bf114828",
   "metadata": {},
   "source": [
    "4 ) What are the advantages and Limitation Of Lambda Fucntion  Compared To regular Function"
   ]
  },
  {
   "cell_type": "code",
   "execution_count": 2,
   "id": "da955f12",
   "metadata": {},
   "outputs": [
    {
     "name": "stdout",
     "output_type": "stream",
     "text": [
      "1) The main advantage is their concise and readable syntax\n"
     ]
    }
   ],
   "source": [
    "#Advantages\n",
    "print(\"1) The main advantage is their concise and readable syntax\")"
   ]
  },
  {
   "cell_type": "code",
   "execution_count": 4,
   "id": "fae2854c",
   "metadata": {},
   "outputs": [
    {
     "name": "stdout",
     "output_type": "stream",
     "text": [
      "1) lambda functions can only contain a single expression and cannot include statements\n",
      "2) user define function using the def keyword and can contain multiple lines of code and statements\n"
     ]
    }
   ],
   "source": [
    "#Disadvantages\n",
    "print(\"1) lambda functions can only contain a single expression and cannot include statements\")\n",
    "print(\"2) user define function using the def keyword and can contain multiple lines of code and statements\")"
   ]
  },
  {
   "cell_type": "code",
   "execution_count": null,
   "id": "b54ae497",
   "metadata": {},
   "outputs": [],
   "source": []
  },
  {
   "cell_type": "markdown",
   "id": "6b2607e1",
   "metadata": {},
   "source": [
    "5) Are lambda function in python able to access variables defined out side of their own scope ?"
   ]
  },
  {
   "cell_type": "code",
   "execution_count": 13,
   "id": "4d3d3bb9",
   "metadata": {},
   "outputs": [
    {
     "name": "stdout",
     "output_type": "stream",
     "text": [
      "Lambda functions have their own local namespace and cannot access variables other than those in their parameter list and those in the global namespace.\n"
     ]
    }
   ],
   "source": [
    "#answer\n",
    "print(\"Lambda functions have their own local namespace and cannot access variables other than those in their parameter list and those in the global namespace.\")"
   ]
  },
  {
   "cell_type": "code",
   "execution_count": 14,
   "id": "1b2eb3c4",
   "metadata": {},
   "outputs": [],
   "source": [
    "a=100"
   ]
  },
  {
   "cell_type": "code",
   "execution_count": 15,
   "id": "c4bdc846",
   "metadata": {},
   "outputs": [
    {
     "data": {
      "text/plain": [
       "104"
      ]
     },
     "execution_count": 15,
     "metadata": {},
     "output_type": "execute_result"
    }
   ],
   "source": [
    "(lambda x:x+a)(4)"
   ]
  },
  {
   "cell_type": "code",
   "execution_count": null,
   "id": "82bc1243",
   "metadata": {},
   "outputs": [],
   "source": []
  },
  {
   "cell_type": "markdown",
   "id": "743bf53e",
   "metadata": {},
   "source": [
    "6) Write a lambda fucntion to calculate a square of given function"
   ]
  },
  {
   "cell_type": "code",
   "execution_count": 21,
   "id": "67669df8",
   "metadata": {},
   "outputs": [
    {
     "name": "stdout",
     "output_type": "stream",
     "text": [
      "Enter a Given Number 5\n"
     ]
    }
   ],
   "source": [
    "a=int(input(\"Enter a Given Number \"))"
   ]
  },
  {
   "cell_type": "code",
   "execution_count": 22,
   "id": "2f80ea22",
   "metadata": {},
   "outputs": [
    {
     "data": {
      "text/plain": [
       "25"
      ]
     },
     "execution_count": 22,
     "metadata": {},
     "output_type": "execute_result"
    }
   ],
   "source": [
    "(lambda x:x**2)(a)"
   ]
  },
  {
   "cell_type": "code",
   "execution_count": null,
   "id": "3017f2bd",
   "metadata": {},
   "outputs": [],
   "source": []
  },
  {
   "cell_type": "markdown",
   "id": "8e462fc3",
   "metadata": {},
   "source": [
    "7) Create a Lambda fucntion to find a  Maximum value in a List of Integer"
   ]
  },
  {
   "cell_type": "code",
   "execution_count": 25,
   "id": "da6c3b9c",
   "metadata": {},
   "outputs": [],
   "source": [
    "a=[2,4,7,0,5,13,456]"
   ]
  },
  {
   "cell_type": "code",
   "execution_count": 26,
   "id": "a20ea78b",
   "metadata": {},
   "outputs": [
    {
     "data": {
      "text/plain": [
       "456"
      ]
     },
     "execution_count": 26,
     "metadata": {},
     "output_type": "execute_result"
    }
   ],
   "source": [
    "(lambda x:max(x))(a)"
   ]
  },
  {
   "cell_type": "code",
   "execution_count": null,
   "id": "41598f95",
   "metadata": {},
   "outputs": [],
   "source": []
  },
  {
   "cell_type": "markdown",
   "id": "ef4c1599",
   "metadata": {},
   "source": [
    "8) Implement a lambda fucntion to filter out a all the even number in a given list"
   ]
  },
  {
   "cell_type": "code",
   "execution_count": 74,
   "id": "a86edb32",
   "metadata": {},
   "outputs": [],
   "source": [
    "s=[3,4,65,4,5,6,7,8,9]"
   ]
  },
  {
   "cell_type": "code",
   "execution_count": 44,
   "id": "e2d973a5",
   "metadata": {},
   "outputs": [
    {
     "data": {
      "text/plain": [
       "[4, 4, 6, 8]"
      ]
     },
     "execution_count": 44,
     "metadata": {},
     "output_type": "execute_result"
    }
   ],
   "source": [
    "list(filter(lambda x:x%2==0 ,s))"
   ]
  },
  {
   "cell_type": "code",
   "execution_count": 79,
   "id": "2286c10d",
   "metadata": {},
   "outputs": [
    {
     "data": {
      "text/plain": [
       "[4, 4, 6, 8]"
      ]
     },
     "execution_count": 79,
     "metadata": {},
     "output_type": "execute_result"
    }
   ],
   "source": [
    "list(filter(lambda x:x%2==0 ,s))"
   ]
  },
  {
   "cell_type": "code",
   "execution_count": 37,
   "id": "fe256d17",
   "metadata": {},
   "outputs": [
    {
     "name": "stdout",
     "output_type": "stream",
     "text": [
      "List of even numbers:\n",
      "[22, 44, 66, 88, 100]\n"
     ]
    }
   ],
   "source": [
    "numbers = [11, 22, 33, 44, 55, 66, 77, 88, 99, 100]\n",
    "\n",
    "print(\"List of even numbers:\")\n",
    "evenNumbers = list(filter(lambda x: x%2 == 0, numbers))\n",
    "print(evenNumbers)"
   ]
  },
  {
   "cell_type": "code",
   "execution_count": null,
   "id": "9b2d1f61",
   "metadata": {},
   "outputs": [],
   "source": []
  },
  {
   "cell_type": "markdown",
   "id": "7d92be87",
   "metadata": {},
   "source": [
    "9) write a lambda fucntion to sort a list in  ascending order based on length of each word"
   ]
  },
  {
   "cell_type": "code",
   "execution_count": 60,
   "id": "cb6ed39c",
   "metadata": {},
   "outputs": [],
   "source": [
    "myList = [\"my\", \"name\", \"is\", \"priyanshu\", \"staying\", \"in\", \"mumbai\"]"
   ]
  },
  {
   "cell_type": "code",
   "execution_count": 81,
   "id": "ba2a68b4",
   "metadata": {},
   "outputs": [
    {
     "data": {
      "text/plain": [
       "['my', 'is', 'in', 'name', 'mumbai', 'staying', 'priyanshu']"
      ]
     },
     "execution_count": 81,
     "metadata": {},
     "output_type": "execute_result"
    }
   ],
   "source": [
    "sorted(myList , key=lambda x:len(x))"
   ]
  },
  {
   "cell_type": "code",
   "execution_count": null,
   "id": "4977ea76",
   "metadata": {},
   "outputs": [],
   "source": []
  },
  {
   "cell_type": "markdown",
   "id": "9e088428",
   "metadata": {},
   "source": [
    "10) Create a lambda fucntion that two list as input and return a single list that contain a comon element between two list"
   ]
  },
  {
   "cell_type": "code",
   "execution_count": 82,
   "id": "b9bb090d",
   "metadata": {},
   "outputs": [],
   "source": [
    "a=[2,3,4,5,6,8]\n",
    "b=[3,5,7,8]"
   ]
  },
  {
   "cell_type": "code",
   "execution_count": null,
   "id": "2860d80a",
   "metadata": {},
   "outputs": [],
   "source": [
    "lambda x,y: i for i in x "
   ]
  },
  {
   "cell_type": "code",
   "execution_count": null,
   "id": "9ad2e2e7",
   "metadata": {},
   "outputs": [],
   "source": []
  },
  {
   "cell_type": "code",
   "execution_count": null,
   "id": "d080363f",
   "metadata": {},
   "outputs": [],
   "source": []
  },
  {
   "cell_type": "markdown",
   "id": "d55d6d8f",
   "metadata": {},
   "source": [
    "11 ) Write a recursive function  to calculate a factorial of given positive number"
   ]
  },
  {
   "cell_type": "code",
   "execution_count": 2,
   "id": "8f9ec231",
   "metadata": {},
   "outputs": [],
   "source": [
    "def factorial12(x):\n",
    "    if x==0 and x==1:\n",
    "        return 1\n",
    "    else:\n",
    "        return x * factorial12(x-1)"
   ]
  },
  {
   "cell_type": "code",
   "execution_count": null,
   "id": "61c6c84b",
   "metadata": {},
   "outputs": [],
   "source": []
  },
  {
   "cell_type": "markdown",
   "id": "9ea7ef43",
   "metadata": {},
   "source": [
    "12 ) Implement a recursive fucntion to compute the nth Fibanacci number "
   ]
  },
  {
   "cell_type": "code",
   "execution_count": 6,
   "id": "30020a8e",
   "metadata": {},
   "outputs": [],
   "source": [
    "def fibonacci(x):\n",
    "    if x==0:\n",
    "        return 0\n",
    "    elif x==1:\n",
    "        return 1\n",
    "    else:\n",
    "        return (fibonacci(x-1) + fibonacci(x-2))"
   ]
  },
  {
   "cell_type": "code",
   "execution_count": 7,
   "id": "382fb627",
   "metadata": {},
   "outputs": [
    {
     "data": {
      "text/plain": [
       "5"
      ]
     },
     "execution_count": 7,
     "metadata": {},
     "output_type": "execute_result"
    }
   ],
   "source": [
    "fibonacci(5)"
   ]
  },
  {
   "cell_type": "code",
   "execution_count": 10,
   "id": "16c91d00",
   "metadata": {},
   "outputs": [],
   "source": [
    "k=10"
   ]
  },
  {
   "cell_type": "code",
   "execution_count": 11,
   "id": "744658e0",
   "metadata": {},
   "outputs": [
    {
     "name": "stdout",
     "output_type": "stream",
     "text": [
      "0\n",
      "1\n",
      "1\n",
      "2\n",
      "3\n",
      "5\n",
      "8\n",
      "13\n",
      "21\n",
      "34\n"
     ]
    }
   ],
   "source": [
    "for i in range(0,k):\n",
    "    print(fibonacci(i))"
   ]
  },
  {
   "cell_type": "code",
   "execution_count": null,
   "id": "16255d25",
   "metadata": {},
   "outputs": [],
   "source": []
  },
  {
   "cell_type": "markdown",
   "id": "af904daf",
   "metadata": {},
   "source": [
    "I DONT HAVE COMPLETE KNOWLEDGE OF RECURSIVE FUNCTION"
   ]
  },
  {
   "cell_type": "code",
   "execution_count": null,
   "id": "4af64de4",
   "metadata": {},
   "outputs": [],
   "source": []
  }
 ],
 "metadata": {
  "kernelspec": {
   "display_name": "Python 3 (ipykernel)",
   "language": "python",
   "name": "python3"
  },
  "language_info": {
   "codemirror_mode": {
    "name": "ipython",
    "version": 3
   },
   "file_extension": ".py",
   "mimetype": "text/x-python",
   "name": "python",
   "nbconvert_exporter": "python",
   "pygments_lexer": "ipython3",
   "version": "3.10.6"
  }
 },
 "nbformat": 4,
 "nbformat_minor": 5
}
